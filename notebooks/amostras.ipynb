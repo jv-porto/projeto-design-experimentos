{
 "cells": [
  {
   "cell_type": "code",
   "execution_count": 3,
   "metadata": {},
   "outputs": [],
   "source": [
    "import numpy as np\n",
    "import pandas as pd\n",
    "from pyDOE2 import *"
   ]
  },
  {
   "attachments": {},
   "cell_type": "markdown",
   "metadata": {},
   "source": [
    "\n",
    "## Obtendo as amostras\n",
    "\n",
    "### LHS\n",
    "\n",
    "Devido ao número de fatores e níveis, optamos por usar o Latin Hypercube Sampling (LHS) para obter amostras do nosso espaço. \n",
    "\n",
    "O Latin Hypercube Sampling (LHS) é uma abordagem que divide a faixa de cada fator de entrada em intervalos iguais e garante que cada intervalo seja representado exatamente por uma amostra. O LHS é frequentemente utilizado para explorar o espaço de design de forma mais eficiente do que a amostragem aleatória simples.\n",
    "\n",
    "O código abaixo só precisou ser rodado uma vez para a obtenção do dataframe com as configurações do experimento."
   ]
  },
  {
   "cell_type": "code",
   "execution_count": 4,
   "metadata": {},
   "outputs": [],
   "source": [
    "# Define fatores e número de amostras\n",
    "factor_names = ['release_angle', 'firing_angle', 'cup_elevation', 'bungee_position', 'pin_elevation']\n",
    "num_factors = len(factor_names)\n",
    "num_samples = 70\n",
    "\n",
    "# Define valores máximos e mínimos para cada fator.\n",
    "min_values = [90, 90, 200, 100, 100]\n",
    "max_values = [185, 140, 300, 200, 200]\n",
    "\n",
    "# Cria as amostras\n",
    "samples = lhs(num_factors, samples=num_samples)\n",
    "\n",
    "# Coloca as amostras nos intervalos das configurações\n",
    "scaled_samples = min_values + samples * (np.array(max_values) - np.array(min_values))\n",
    "\n",
    "# Converte os valores para int\n",
    "scaled_samples = scaled_samples.astype(int)\n",
    "\n",
    "# Transforma as amostras em um dataframe\n",
    "df = pd.DataFrame(scaled_samples)\n",
    "df.columns = factor_names\n",
    "\n",
    "# Descarta linha se release_angle < firing_angle\n",
    "for index, row in df.iterrows():\n",
    "    if (row['release_angle'] < row['firing_angle']):\n",
    "        df = df.drop(index)\n",
    "df = df.reset_index(drop=True)\n",
    "df[\"distance\"] = \"\"\n",
    "# df.to_csv(\"df_catapulta_empty.csv\")"
   ]
  },
  {
   "attachments": {},
   "cell_type": "markdown",
   "metadata": {},
   "source": [
    "### Box–Behnken\n",
    "Nesse design, os fatores são definidos em três níveis (geralmente -1, 0 e +1) e são selecionados pontos experimentais que são equidistantes do ponto central do espaço de trabalho. Permite uma boa estimativa dos efeitos principais e das interações de segunda ordem entre os fatores, sem requerer um grande número de experimentos."
   ]
  },
  {
   "cell_type": "code",
   "execution_count": 8,
   "metadata": {},
   "outputs": [],
   "source": [
    "df_b = pd.DataFrame(bbdesign(5))\n",
    "df_b.columns = factor_names\n",
    "df_b['distance'] = ''"
   ]
  },
  {
   "cell_type": "code",
   "execution_count": 11,
   "metadata": {},
   "outputs": [],
   "source": [
    "def\tconvert_bb(df):\n",
    "\tfor index, value in df['firing_angle'].items():\n",
    "\t\tif value == -1:\n",
    "\t\t\tdf.at[index, 'firing_angle'] = 90\n",
    "\t\telif value == 0:\n",
    "\t\t\tdf.at[index, 'firing_angle'] = 106\n",
    "\t\telif value == 1:\n",
    "\t\t\tdf.at[index, 'firing_angle'] = 123\n",
    "\n",
    "\tfor index, value in df['release_angle'].items():\n",
    "\t\tif value == -1:\n",
    "\t\t\tdf.at[index, 'release_angle'] = 155\n",
    "\t\telif value == 0:\n",
    "\t\t\tdf.at[index, 'release_angle'] = 170\n",
    "\t\telif value == 1:\n",
    "\t\t\tdf.at[index, 'release_angle'] = 185\n",
    "\n",
    "\tfor index, value in df['cup_elevation'].items():\n",
    "\t\tif value == -1:\n",
    "\t\t\tdf.at[index, 'cup_elevation'] = 200\n",
    "\t\telif value == 0:\n",
    "\t\t\tdf.at[index, 'cup_elevation'] = 250\n",
    "\t\telif value == 1:\n",
    "\t\t\tdf.at[index, 'cup_elevation'] = 300\n",
    "\n",
    "\tfor index, value in df['bungee_position'].items():\n",
    "\t\tif value == -1:\n",
    "\t\t\tdf.at[index, 'bungee_position'] = 100\n",
    "\t\telif value == 0:\n",
    "\t\t\tdf.at[index, 'bungee_position'] = 150\n",
    "\t\telif value == 1:\n",
    "\t\t\tdf.at[index, 'bungee_position'] = 200\n",
    "\n",
    "\tfor index, value in df['pin_elevation'].items():\n",
    "\t\tif value == -1:\n",
    "\t\t\tdf.at[index, 'pin_elevation'] = 100\n",
    "\t\telif value == 0:\n",
    "\t\t\tdf.at[index, 'pin_elevation'] = 150\n",
    "\t\telif value == 1:\n",
    "\t\t\tdf.at[index, 'pin_elevation'] = 200\n",
    "\t\n",
    "convert_bb(df_b)\n",
    "df_b = df_b.drop_duplicates()\n",
    "# df_b.to_csv(\"df_box.empty.csv\")"
   ]
  }
 ],
 "metadata": {
  "kernelspec": {
   "display_name": "Python 3.11.0 64-bit",
   "language": "python",
   "name": "python3"
  },
  "language_info": {
   "codemirror_mode": {
    "name": "ipython",
    "version": 3
   },
   "file_extension": ".py",
   "mimetype": "text/x-python",
   "name": "python",
   "nbconvert_exporter": "python",
   "pygments_lexer": "ipython3",
   "version": "3.11.0"
  },
  "orig_nbformat": 4,
  "vscode": {
   "interpreter": {
    "hash": "5238573367df39f7286bb46f9ff5f08f63a01a80960060ce41e3c79b190280fa"
   }
  }
 },
 "nbformat": 4,
 "nbformat_minor": 2
}
