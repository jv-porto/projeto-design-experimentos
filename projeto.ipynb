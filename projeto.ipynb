{
 "cells": [
  {
   "cell_type": "code",
   "execution_count": 2,
   "metadata": {},
   "outputs": [],
   "source": [
    "import numpy as np\n",
    "import pandas as pd\n",
    "from pyDOE2 import *"
   ]
  },
  {
   "attachments": {},
   "cell_type": "markdown",
   "metadata": {},
   "source": [
    "# Recursos\n",
    "- [Catapulta](https://sigmazone.com/catapult/)\n",
    "- [Documentação pyDOE2](https://pythonhosted.org/pyDOE/)\n",
    "- [Curso de Design of Experiments da PennState](https://online.stat.psu.edu/stat503/lesson/1)\n",
    "- [Tutorial de DOE com catapulta do Sigmazone](https://sigmazone.com/quantum_xl_doe_tutorial/#Step_1:_Setting_up_the_Designed_Experiment)"
   ]
  },
  {
   "attachments": {},
   "cell_type": "markdown",
   "metadata": {},
   "source": [
    "## Obtendo as amostras\n",
    "Devido ao número de fatores e níveis, optamos por usar o Latin Hypercube Sampling (LHS) para obter amostras do nosso espaço. \n",
    "\n",
    "O Latin Hypercube Sampling (LHS) é uma abordagem que divide a faixa de cada fator de entrada em intervalos iguais e garante que cada intervalo seja representado exatamente por uma amostra. O LHS é frequentemente utilizado para explorar o espaço de design de forma mais eficiente do que a amostragem aleatória simples.\n",
    "\n",
    "O código abaixo só precisou ser rodado uma vez para a obtenção do dataframe com as configurações do experimento."
   ]
  },
  {
   "cell_type": "code",
   "execution_count": 91,
   "metadata": {},
   "outputs": [],
   "source": [
    "# Define fatores e número de amostras\n",
    "factor_names = ['release_angle', 'firing_angle', 'cup_elevation', 'bungee_position', 'pin_elevation']\n",
    "num_factors = len(factor_names)\n",
    "num_samples = 70\n",
    "\n",
    "# Define valores máximos e mínimos para cada fator.\n",
    "min_values = [90, 90, 200, 100, 100]\n",
    "max_values = [185, 140, 300, 200, 200]\n",
    "\n",
    "# # Cria as amostras\n",
    "# samples = lhs(num_factors, samples=num_samples)\n",
    "\n",
    "# # Coloca as amostras nos intervalos das configurações\n",
    "# scaled_samples = min_values + samples * (np.array(max_values) - np.array(min_values))\n",
    "\n",
    "# # Converte os valores para int\n",
    "# scaled_samples = scaled_samples.astype(int)\n",
    "\n",
    "# # Transforma as amostras em um dataframe\n",
    "# df = pd.DataFrame(scaled_samples)\n",
    "# df.columns = factor_names"
   ]
  },
  {
   "cell_type": "code",
   "execution_count": 94,
   "metadata": {},
   "outputs": [],
   "source": [
    "# Descarta linha se release_angle < firing_angle\n",
    "for index, row in df.iterrows():\n",
    "    if (row['release_angle'] < row['firing_angle']):\n",
    "        df = df.drop(index)\n",
    "df = df.reset_index(drop=True)\n",
    "df[\"distance\"] = \"\"\n",
    "# df.to_csv(\"df_catapulta_empty.csv\")"
   ]
  },
  {
   "attachments": {},
   "cell_type": "markdown",
   "metadata": {},
   "source": [
    "## Realizando o experimento.\n",
    "Colocamos as configurações de cada linha do dataframe na [catapulta](https://sigmazone.com/catapult/) para preencher a coluna `distance` e salvá-lo como um novo dataframe."
   ]
  },
  {
   "cell_type": "code",
   "execution_count": 117,
   "metadata": {},
   "outputs": [
    {
     "data": {
      "text/html": [
       "<div>\n",
       "<style scoped>\n",
       "    .dataframe tbody tr th:only-of-type {\n",
       "        vertical-align: middle;\n",
       "    }\n",
       "\n",
       "    .dataframe tbody tr th {\n",
       "        vertical-align: top;\n",
       "    }\n",
       "\n",
       "    .dataframe thead th {\n",
       "        text-align: right;\n",
       "    }\n",
       "</style>\n",
       "<table border=\"1\" class=\"dataframe\">\n",
       "  <thead>\n",
       "    <tr style=\"text-align: right;\">\n",
       "      <th></th>\n",
       "      <th>release_angle</th>\n",
       "      <th>firing_angle</th>\n",
       "      <th>cup_elevation</th>\n",
       "      <th>bungee_position</th>\n",
       "      <th>pin_elevation</th>\n",
       "      <th>distance</th>\n",
       "    </tr>\n",
       "  </thead>\n",
       "  <tbody>\n",
       "    <tr>\n",
       "      <th>0</th>\n",
       "      <td>183</td>\n",
       "      <td>100</td>\n",
       "      <td>211</td>\n",
       "      <td>168</td>\n",
       "      <td>120</td>\n",
       "      <td>185.0</td>\n",
       "    </tr>\n",
       "    <tr>\n",
       "      <th>1</th>\n",
       "      <td>173</td>\n",
       "      <td>124</td>\n",
       "      <td>240</td>\n",
       "      <td>110</td>\n",
       "      <td>100</td>\n",
       "      <td>125.0</td>\n",
       "    </tr>\n",
       "    <tr>\n",
       "      <th>2</th>\n",
       "      <td>128</td>\n",
       "      <td>104</td>\n",
       "      <td>243</td>\n",
       "      <td>117</td>\n",
       "      <td>163</td>\n",
       "      <td>96.0</td>\n",
       "    </tr>\n",
       "  </tbody>\n",
       "</table>\n",
       "</div>"
      ],
      "text/plain": [
       "   release_angle  firing_angle  cup_elevation  bungee_position  pin_elevation  \\\n",
       "0            183           100            211              168            120   \n",
       "1            173           124            240              110            100   \n",
       "2            128           104            243              117            163   \n",
       "\n",
       "   distance  \n",
       "0     185.0  \n",
       "1     125.0  \n",
       "2      96.0  "
      ]
     },
     "execution_count": 117,
     "metadata": {},
     "output_type": "execute_result"
    }
   ],
   "source": [
    "df = pd.read_csv(\"df_catapulta_complete.csv\")\n",
    "# df = df.dropna(ignore_index=True)\n",
    "df = df.dropna(ignore_index=True).drop('Unnamed: 0', axis=1)\n",
    "df"
   ]
  },
  {
   "attachments": {},
   "cell_type": "markdown",
   "metadata": {},
   "source": [
    "## Análise dos dados\n",
    "Usamos a biblioteca `pyDOE2` para realizar a análise de variância, entre outras."
   ]
  },
  {
   "attachments": {},
   "cell_type": "markdown",
   "metadata": {},
   "source": [
    "## Otimização\n",
    "Técnica de Análise de Superfície de Resposta (RSM) para achar a melhor configuração da catapulta."
   ]
  },
  {
   "attachments": {},
   "cell_type": "markdown",
   "metadata": {},
   "source": []
  }
 ],
 "metadata": {
  "kernelspec": {
   "display_name": "envpuc",
   "language": "python",
   "name": "envpuc"
  },
  "language_info": {
   "codemirror_mode": {
    "name": "ipython",
    "version": 3
   },
   "file_extension": ".py",
   "mimetype": "text/x-python",
   "name": "python",
   "nbconvert_exporter": "python",
   "pygments_lexer": "ipython3",
   "version": "3.9.6"
  },
  "orig_nbformat": 4
 },
 "nbformat": 4,
 "nbformat_minor": 2
}
