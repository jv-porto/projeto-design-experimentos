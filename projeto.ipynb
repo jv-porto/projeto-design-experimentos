{
 "cells": [
  {
   "cell_type": "code",
   "execution_count": 2,
   "metadata": {},
   "outputs": [],
   "source": [
    "import numpy as np\n",
    "import pandas as pd\n",
    "from pyDOE2 import *"
   ]
  },
  {
   "attachments": {},
   "cell_type": "markdown",
   "metadata": {},
   "source": [
    "# Recursos\n",
    "- [Catapulta](https://sigmazone.com/catapult/)\n",
    "- [Documentação pyDOE2](https://pythonhosted.org/pyDOE/)\n",
    "- [Curso de Design of Experiments da PennState](https://online.stat.psu.edu/stat503/lesson/1)\n",
    "- [Tutorial de DOE com catapulta do Sigmazone](https://sigmazone.com/quantum_xl_doe_tutorial/#Step_1:_Setting_up_the_Designed_Experiment)"
   ]
  },
  {
   "attachments": {},
   "cell_type": "markdown",
   "metadata": {},
   "source": [
    "## Obtendo as amostras\n",
    "Devido ao número de fatores e níveis, optamos por usar o Latin Hypercube Sampling (LHS) para obter amostras do nosso espaço. \n",
    "\n",
    "O Latin Hypercube Sampling (LHS) é uma abordagem que divide a faixa de cada fator de entrada em intervalos iguais e garante que cada intervalo seja representado exatamente por uma amostra. O LHS é frequentemente utilizado para explorar o espaço de design de forma mais eficiente do que a amostragem aleatória simples.\n"
   ]
  },
  {
   "cell_type": "code",
   "execution_count": 77,
   "metadata": {},
   "outputs": [],
   "source": [
    "# Define fatores e número de amostras\n",
    "factor_names = ['release_angle', 'firing_angle', 'cup_elevation', 'bungee_position', 'pin_elevation']\n",
    "num_factors = len(factor_names)\n",
    "num_samples = 10\n",
    "\n",
    "# Define valores máximos e mínimos para cada fator.\n",
    "min_values = [90, 90, 200, 100, 100]\n",
    "max_values = [185, 140, 300, 200, 200]\n",
    "\n",
    "# Cria as amostras\n",
    "samples = lhs(num_factors, samples=num_samples)\n",
    "\n",
    "# Coloca as amostras nos intervalos das configurações\n",
    "scaled_samples = min_values + samples * (np.array(max_values) - np.array(min_values))\n",
    "\n",
    "# Converte os valores para int\n",
    "scaled_samples = scaled_samples.astype(int)\n",
    "\n",
    "# Transforma as amostras em um dataframe\n",
    "df = pd.DataFrame(scaled_samples)\n",
    "df.columns = factor_names"
   ]
  },
  {
   "cell_type": "code",
   "execution_count": 78,
   "metadata": {},
   "outputs": [
    {
     "data": {
      "text/html": [
       "<div>\n",
       "<style scoped>\n",
       "    .dataframe tbody tr th:only-of-type {\n",
       "        vertical-align: middle;\n",
       "    }\n",
       "\n",
       "    .dataframe tbody tr th {\n",
       "        vertical-align: top;\n",
       "    }\n",
       "\n",
       "    .dataframe thead th {\n",
       "        text-align: right;\n",
       "    }\n",
       "</style>\n",
       "<table border=\"1\" class=\"dataframe\">\n",
       "  <thead>\n",
       "    <tr style=\"text-align: right;\">\n",
       "      <th></th>\n",
       "      <th>release_angle</th>\n",
       "      <th>firing_angle</th>\n",
       "      <th>cup_elevation</th>\n",
       "      <th>bungee_position</th>\n",
       "      <th>pin_elevation</th>\n",
       "    </tr>\n",
       "  </thead>\n",
       "  <tbody>\n",
       "    <tr>\n",
       "      <th>0</th>\n",
       "      <td>168</td>\n",
       "      <td>97</td>\n",
       "      <td>252</td>\n",
       "      <td>110</td>\n",
       "      <td>140</td>\n",
       "    </tr>\n",
       "    <tr>\n",
       "      <th>1</th>\n",
       "      <td>154</td>\n",
       "      <td>111</td>\n",
       "      <td>219</td>\n",
       "      <td>158</td>\n",
       "      <td>166</td>\n",
       "    </tr>\n",
       "    <tr>\n",
       "      <th>2</th>\n",
       "      <td>104</td>\n",
       "      <td>100</td>\n",
       "      <td>241</td>\n",
       "      <td>160</td>\n",
       "      <td>117</td>\n",
       "    </tr>\n",
       "    <tr>\n",
       "      <th>3</th>\n",
       "      <td>182</td>\n",
       "      <td>137</td>\n",
       "      <td>201</td>\n",
       "      <td>170</td>\n",
       "      <td>125</td>\n",
       "    </tr>\n",
       "    <tr>\n",
       "      <th>4</th>\n",
       "      <td>164</td>\n",
       "      <td>130</td>\n",
       "      <td>263</td>\n",
       "      <td>191</td>\n",
       "      <td>182</td>\n",
       "    </tr>\n",
       "    <tr>\n",
       "      <th>5</th>\n",
       "      <td>144</td>\n",
       "      <td>92</td>\n",
       "      <td>286</td>\n",
       "      <td>123</td>\n",
       "      <td>152</td>\n",
       "    </tr>\n",
       "    <tr>\n",
       "      <th>6</th>\n",
       "      <td>130</td>\n",
       "      <td>122</td>\n",
       "      <td>273</td>\n",
       "      <td>147</td>\n",
       "      <td>106</td>\n",
       "    </tr>\n",
       "    <tr>\n",
       "      <th>7</th>\n",
       "      <td>125</td>\n",
       "      <td>107</td>\n",
       "      <td>298</td>\n",
       "      <td>136</td>\n",
       "      <td>139</td>\n",
       "    </tr>\n",
       "  </tbody>\n",
       "</table>\n",
       "</div>"
      ],
      "text/plain": [
       "   release_angle  firing_angle  cup_elevation  bungee_position  pin_elevation\n",
       "0            168            97            252              110            140\n",
       "1            154           111            219              158            166\n",
       "2            104           100            241              160            117\n",
       "3            182           137            201              170            125\n",
       "4            164           130            263              191            182\n",
       "5            144            92            286              123            152\n",
       "6            130           122            273              147            106\n",
       "7            125           107            298              136            139"
      ]
     },
     "execution_count": 78,
     "metadata": {},
     "output_type": "execute_result"
    }
   ],
   "source": [
    "# Descarta linha se release_angle < firing_angle\n",
    "for index, row in df.iterrows():\n",
    "    if (row['release_angle'] < row['firing_angle']):\n",
    "        df = df.drop(index)\n",
    "df = df.reset_index(drop=True)\n",
    "df"
   ]
  },
  {
   "cell_type": "code",
   "execution_count": null,
   "metadata": {},
   "outputs": [],
   "source": []
  }
 ],
 "metadata": {
  "kernelspec": {
   "display_name": "envpuc",
   "language": "python",
   "name": "envpuc"
  },
  "language_info": {
   "codemirror_mode": {
    "name": "ipython",
    "version": 3
   },
   "file_extension": ".py",
   "mimetype": "text/x-python",
   "name": "python",
   "nbconvert_exporter": "python",
   "pygments_lexer": "ipython3",
   "version": "3.9.6"
  },
  "orig_nbformat": 4
 },
 "nbformat": 4,
 "nbformat_minor": 2
}
