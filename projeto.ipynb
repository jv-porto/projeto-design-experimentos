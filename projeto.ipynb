{
 "cells": [
  {
   "cell_type": "code",
   "execution_count": 112,
   "metadata": {},
   "outputs": [],
   "source": [
    "import numpy as np\n",
    "import pandas as pd\n",
    "from pyDOE2 import *"
   ]
  },
  {
   "attachments": {},
   "cell_type": "markdown",
   "metadata": {},
   "source": [
    "# Recursos\n",
    "- [Catapulta](https://sigmazone.com/catapult/)\n",
    "- [Documentação pyDOE2](https://pythonhosted.org/pyDOE/)\n",
    "- [Tutorial de DOE com catapulta do Sigmazone](https://sigmazone.com/quantum_xl_doe_tutorial/#Step_1:_Setting_up_the_Designed_Experiment)\n",
    "- [Response Optimization with Design of Experiments and python](https://towardsdatascience.com/response-optimization-with-design-of-experiments-and-python-63f9afb3f26f)\n",
    "- [Youtube: Design of Experiments (DOE) - Minitab Masters Module 5](https://www.youtube.com/watch?v=rXmrMu-czM4)\n",
    "- [Curso de Design of Experiments da PennState](https://online.stat.psu.edu/stat503/lesson/1)"
   ]
  },
  {
   "attachments": {},
   "cell_type": "markdown",
   "metadata": {},
   "source": [
    "## Obtendo as amostras\n",
    "Devido ao número de fatores e níveis, optamos por usar o Latin Hypercube Sampling (LHS) para obter amostras do nosso espaço. \n",
    "\n",
    "O Latin Hypercube Sampling (LHS) é uma abordagem que divide a faixa de cada fator de entrada em intervalos iguais e garante que cada intervalo seja representado exatamente por uma amostra. O LHS é frequentemente utilizado para explorar o espaço de design de forma mais eficiente do que a amostragem aleatória simples.\n",
    "\n",
    "O código abaixo só precisou ser rodado uma vez para a obtenção do dataframe com as configurações do experimento."
   ]
  },
  {
   "cell_type": "code",
   "execution_count": 113,
   "metadata": {},
   "outputs": [],
   "source": [
    "# Define fatores e número de amostras\n",
    "factor_names = ['release_angle', 'firing_angle', 'cup_elevation', 'bungee_position', 'pin_elevation']\n",
    "num_factors = len(factor_names)\n",
    "num_samples = 70\n",
    "\n",
    "# Define valores máximos e mínimos para cada fator.\n",
    "min_values = [90, 90, 200, 100, 100]\n",
    "max_values = [185, 140, 300, 200, 200]\n",
    "\n",
    "# # Cria as amostras\n",
    "# samples = lhs(num_factors, samples=num_samples)\n",
    "\n",
    "# # Coloca as amostras nos intervalos das configurações\n",
    "# scaled_samples = min_values + samples * (np.array(max_values) - np.array(min_values))\n",
    "\n",
    "# # Converte os valores para int\n",
    "# scaled_samples = scaled_samples.astype(int)\n",
    "\n",
    "# # Transforma as amostras em um dataframe\n",
    "# df = pd.DataFrame(scaled_samples)\n",
    "# df.columns = factor_names"
   ]
  },
  {
   "cell_type": "code",
   "execution_count": 114,
   "metadata": {},
   "outputs": [],
   "source": [
    "# Descarta linha se release_angle < firing_angle\n",
    "# for index, row in df.iterrows():\n",
    "#     if (row['release_angle'] < row['firing_angle']):\n",
    "#         df = df.drop(index)\n",
    "# df = df.reset_index(drop=True)\n",
    "# df[\"distance\"] = \"\"\n",
    "# df.to_csv(\"df_catapulta_empty.csv\")"
   ]
  },
  {
   "attachments": {},
   "cell_type": "markdown",
   "metadata": {},
   "source": [
    "## Realizando o experimento.\n",
    "Colocamos as configurações de cada linha do dataframe na [catapulta](https://sigmazone.com/catapult/) para preencher a coluna `distance` e salvá-lo como um novo dataframe.\n",
    "\n",
    "A planilha compartilhada está disponível no [Google Sheets](https://docs.google.com/spreadsheets/d/1e-EHZcRrpu5jy7baX_Z1_XDp0cppIyoXXveRIzQKk2E/edit#gid=1081657349)"
   ]
  },
  {
   "cell_type": "code",
   "execution_count": 115,
   "metadata": {},
   "outputs": [
    {
     "data": {
      "text/html": [
       "<div>\n",
       "<style scoped>\n",
       "    .dataframe tbody tr th:only-of-type {\n",
       "        vertical-align: middle;\n",
       "    }\n",
       "\n",
       "    .dataframe tbody tr th {\n",
       "        vertical-align: top;\n",
       "    }\n",
       "\n",
       "    .dataframe thead th {\n",
       "        text-align: right;\n",
       "    }\n",
       "</style>\n",
       "<table border=\"1\" class=\"dataframe\">\n",
       "  <thead>\n",
       "    <tr style=\"text-align: right;\">\n",
       "      <th></th>\n",
       "      <th>release_angle</th>\n",
       "      <th>firing_angle</th>\n",
       "      <th>cup_elevation</th>\n",
       "      <th>bungee_position</th>\n",
       "      <th>pin_elevation</th>\n",
       "      <th>distance</th>\n",
       "    </tr>\n",
       "  </thead>\n",
       "  <tbody>\n",
       "    <tr>\n",
       "      <th>0</th>\n",
       "      <td>183</td>\n",
       "      <td>100</td>\n",
       "      <td>211</td>\n",
       "      <td>168</td>\n",
       "      <td>120</td>\n",
       "      <td>185</td>\n",
       "    </tr>\n",
       "    <tr>\n",
       "      <th>1</th>\n",
       "      <td>173</td>\n",
       "      <td>124</td>\n",
       "      <td>240</td>\n",
       "      <td>110</td>\n",
       "      <td>100</td>\n",
       "      <td>125</td>\n",
       "    </tr>\n",
       "    <tr>\n",
       "      <th>2</th>\n",
       "      <td>128</td>\n",
       "      <td>104</td>\n",
       "      <td>243</td>\n",
       "      <td>117</td>\n",
       "      <td>163</td>\n",
       "      <td>96</td>\n",
       "    </tr>\n",
       "    <tr>\n",
       "      <th>3</th>\n",
       "      <td>148</td>\n",
       "      <td>131</td>\n",
       "      <td>273</td>\n",
       "      <td>135</td>\n",
       "      <td>138</td>\n",
       "      <td>82</td>\n",
       "    </tr>\n",
       "    <tr>\n",
       "      <th>4</th>\n",
       "      <td>123</td>\n",
       "      <td>90</td>\n",
       "      <td>265</td>\n",
       "      <td>194</td>\n",
       "      <td>118</td>\n",
       "      <td>105</td>\n",
       "    </tr>\n",
       "    <tr>\n",
       "      <th>5</th>\n",
       "      <td>148</td>\n",
       "      <td>116</td>\n",
       "      <td>254</td>\n",
       "      <td>153</td>\n",
       "      <td>106</td>\n",
       "      <td>136</td>\n",
       "    </tr>\n",
       "    <tr>\n",
       "      <th>6</th>\n",
       "      <td>178</td>\n",
       "      <td>137</td>\n",
       "      <td>230</td>\n",
       "      <td>131</td>\n",
       "      <td>141</td>\n",
       "      <td>145</td>\n",
       "    </tr>\n",
       "    <tr>\n",
       "      <th>7</th>\n",
       "      <td>118</td>\n",
       "      <td>91</td>\n",
       "      <td>288</td>\n",
       "      <td>179</td>\n",
       "      <td>136</td>\n",
       "      <td>107</td>\n",
       "    </tr>\n",
       "    <tr>\n",
       "      <th>8</th>\n",
       "      <td>150</td>\n",
       "      <td>94</td>\n",
       "      <td>229</td>\n",
       "      <td>128</td>\n",
       "      <td>195</td>\n",
       "      <td>149</td>\n",
       "    </tr>\n",
       "    <tr>\n",
       "      <th>9</th>\n",
       "      <td>169</td>\n",
       "      <td>114</td>\n",
       "      <td>233</td>\n",
       "      <td>189</td>\n",
       "      <td>192</td>\n",
       "      <td>341</td>\n",
       "    </tr>\n",
       "  </tbody>\n",
       "</table>\n",
       "</div>"
      ],
      "text/plain": [
       "   release_angle  firing_angle  cup_elevation  bungee_position  pin_elevation   \n",
       "0            183           100            211              168            120  \\\n",
       "1            173           124            240              110            100   \n",
       "2            128           104            243              117            163   \n",
       "3            148           131            273              135            138   \n",
       "4            123            90            265              194            118   \n",
       "5            148           116            254              153            106   \n",
       "6            178           137            230              131            141   \n",
       "7            118            91            288              179            136   \n",
       "8            150            94            229              128            195   \n",
       "9            169           114            233              189            192   \n",
       "\n",
       "   distance  \n",
       "0       185  \n",
       "1       125  \n",
       "2        96  \n",
       "3        82  \n",
       "4       105  \n",
       "5       136  \n",
       "6       145  \n",
       "7       107  \n",
       "8       149  \n",
       "9       341  "
      ]
     },
     "execution_count": 115,
     "metadata": {},
     "output_type": "execute_result"
    }
   ],
   "source": [
    "df = pd.read_csv(\"df_catapulta_complete.csv\")\n",
    "# df = df.dropna(ignore_index=True)\n",
    "df = df.dropna(ignore_index=True).drop('Unnamed: 0', axis=1)\n",
    "df['distance'] = df['distance'].astype(int)\n",
    "df"
   ]
  },
  {
   "attachments": {},
   "cell_type": "markdown",
   "metadata": {},
   "source": [
    "## Análise dos dados\n",
    "Usamos a biblioteca `pyDOE2` para realizar a análise de variância, entre outras."
   ]
  },
  {
   "attachments": {},
   "cell_type": "markdown",
   "metadata": {},
   "source": [
    "## Otimização\n",
    "Técnica de Análise de Superfície de Resposta (RSM) para achar a melhor configuração da catapulta."
   ]
  },
  {
   "cell_type": "code",
   "execution_count": 116,
   "metadata": {},
   "outputs": [],
   "source": [
    "from sklearn.linear_model import LinearRegression\n",
    "from sklearn.preprocessing import PolynomialFeatures\n",
    "from sklearn.model_selection import train_test_split\n",
    "from sklearn.metrics import mean_squared_error\n",
    "from scipy.optimize import minimize"
   ]
  },
  {
   "cell_type": "code",
   "execution_count": 117,
   "metadata": {},
   "outputs": [],
   "source": [
    "# Variáveis independentes\n",
    "x = df[['release_angle', 'firing_angle','cup_elevation', 'bungee_position', 'pin_elevation']]\n",
    "\n",
    "# Variável de resposta\n",
    "y = df['distance']\n",
    "\n",
    "# Divide dataset em variáveis de treinamento e de teste\n",
    "x_train, x_test, y_train, y_test = train_test_split(x, y, test_size=0.5, random_state=42)"
   ]
  },
  {
   "attachments": {},
   "cell_type": "markdown",
   "metadata": {},
   "source": [
    "Ao utilizar a técnica de análise de superfície de resposta (RSM), transformar as variáveis de teste em um polinômio permite capturar relações não lineares entre os fatores e a resposta. É uma forma de expandir o espaço de recursos e levar em consideração possíveis interações e efeitos não lineares entre as variáveis."
   ]
  },
  {
   "cell_type": "code",
   "execution_count": 118,
   "metadata": {},
   "outputs": [],
   "source": [
    "poly = PolynomialFeatures(degree=2)\n",
    "x_train_poly = poly.fit_transform(x_train)\n",
    "x_test_poly = poly.fit_transform(x_test)"
   ]
  },
  {
   "cell_type": "code",
   "execution_count": 119,
   "metadata": {},
   "outputs": [],
   "source": [
    "# Treina o modelo\n",
    "model = LinearRegression()\n",
    "model.fit(x_train_poly, y_train)\n",
    "\n",
    "# Predições\n",
    "y_pred = model.predict(x_test_poly)"
   ]
  },
  {
   "cell_type": "code",
   "execution_count": 120,
   "metadata": {},
   "outputs": [
    {
     "data": {
      "text/plain": [
       "4397.249993012696"
      ]
     },
     "execution_count": 120,
     "metadata": {},
     "output_type": "execute_result"
    }
   ],
   "source": [
    "# Avalia o desempenho do modelo. Quanto menor o MSE, melhor.\n",
    "mse = mean_squared_error(y_test, y_pred)\n",
    "mse"
   ]
  }
 ],
 "metadata": {
  "kernelspec": {
   "display_name": "pucsp",
   "language": "python",
   "name": "pucsp"
  },
  "language_info": {
   "codemirror_mode": {
    "name": "ipython",
    "version": 3
   },
   "file_extension": ".py",
   "mimetype": "text/x-python",
   "name": "python",
   "nbconvert_exporter": "python",
   "pygments_lexer": "ipython3",
   "version": "3.8.10"
  },
  "orig_nbformat": 4
 },
 "nbformat": 4,
 "nbformat_minor": 2
}
